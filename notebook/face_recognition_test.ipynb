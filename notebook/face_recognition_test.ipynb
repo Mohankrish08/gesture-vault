{
 "cells": [
  {
   "cell_type": "markdown",
   "id": "ba7f22d7",
   "metadata": {},
   "source": [
    "# Importing Libraries "
   ]
  },
  {
   "cell_type": "code",
   "execution_count": 1,
   "id": "f6261a07",
   "metadata": {},
   "outputs": [],
   "source": [
    "import cv2\n",
    "import numpy as np\n",
    "import face_recognition\n",
    "import os\n",
    "import pickle"
   ]
  },
  {
   "cell_type": "markdown",
   "id": "70b2a403",
   "metadata": {},
   "source": [
    "# Functions "
   ]
  },
  {
   "cell_type": "code",
   "execution_count": 4,
   "id": "aa41a5b6",
   "metadata": {},
   "outputs": [],
   "source": [
    "def resize(img, size) :\n",
    "    width = int(img.shape[0]*size)\n",
    "    height = int(img.shape[0] * size)\n",
    "    dimension = (width, height)\n",
    "    return cv2.resize(img, dimension, interpolation= cv2.INTER_AREA)"
   ]
  },
  {
   "cell_type": "code",
   "execution_count": 5,
   "id": "eca0adf1",
   "metadata": {},
   "outputs": [],
   "source": [
    "def findEncoding(images) :\n",
    "    imgEncodings = []\n",
    "    for img in images :\n",
    "        img = resize(img, 0.50)\n",
    "        img = cv2.cvtColor(img, cv2.COLOR_BGR2RGB)\n",
    "        encodeimg = face_recognition.face_encodings(img)\n",
    "        imgEncodings.append(encodeimg)\n",
    "    return imgEncodings"
   ]
  },
  {
   "cell_type": "markdown",
   "id": "72c84bf1",
   "metadata": {},
   "source": [
    "# Path "
   ]
  },
  {
   "cell_type": "code",
   "execution_count": 6,
   "id": "27c198e9",
   "metadata": {},
   "outputs": [],
   "source": [
    "path = 'Project/'"
   ]
  },
  {
   "cell_type": "code",
   "execution_count": 7,
   "id": "df9e9379",
   "metadata": {},
   "outputs": [
    {
     "name": "stdout",
     "output_type": "stream",
     "text": [
      "completed\n"
     ]
    }
   ],
   "source": [
    "personImg = []\n",
    "personName = []\n",
    "\n",
    "filename = 'face.pkl'\n",
    "\n",
    "try:\n",
    "    \n",
    "    for img in os.listdir(path):\n",
    "        image = cv2.imread(os.path.join(path, img))\n",
    "        personImg.append(image)\n",
    "\n",
    "    with open(filename, 'wb') as file:\n",
    "        pickle.dump(personImg, file)\n",
    "\n",
    "    print('completed')\n",
    "\n",
    "except:\n",
    "    pass"
   ]
  },
  {
   "cell_type": "code",
   "execution_count": 27,
   "id": "69a3b37f",
   "metadata": {},
   "outputs": [],
   "source": [
    "for i in os.listdir(path):\n",
    "    personName.append(os.path.splitext(i)[0])"
   ]
  },
  {
   "cell_type": "code",
   "execution_count": 8,
   "id": "398d0e28",
   "metadata": {},
   "outputs": [
    {
     "name": "stdout",
     "output_type": "stream",
     "text": [
      "CPU times: total: 1.78 s\n",
      "Wall time: 3.8 s\n"
     ]
    }
   ],
   "source": [
    "%%time\n",
    "\n",
    "face_data = []\n",
    "\n",
    "with open(filename, 'rb') as file:\n",
    "    data = pickle.load(file)\n",
    "    #face_data.append(data)\n",
    "    face_data = data"
   ]
  },
  {
   "cell_type": "code",
   "execution_count": 19,
   "id": "9311ec04",
   "metadata": {},
   "outputs": [
    {
     "name": "stdout",
     "output_type": "stream",
     "text": [
      "Completed\n"
     ]
    }
   ],
   "source": [
    "filename = 'embeddings.pkl'\n",
    "\n",
    "imgEmbeddings = []\n",
    "\n",
    "for face in personImg:\n",
    "    encodeimg = face_recognition.face_encodings(face)[0]\n",
    "    imgEmbeddings.append(encodeimg)\n",
    "\n",
    "with open(filename, 'wb') as file:\n",
    "    pickle.dump(imgEmbeddings, file)\n",
    "    \n",
    "print('Completed')"
   ]
  },
  {
   "cell_type": "code",
   "execution_count": 21,
   "id": "667c4f52",
   "metadata": {},
   "outputs": [
    {
     "name": "stdout",
     "output_type": "stream",
     "text": [
      "CPU times: total: 0 ns\n",
      "Wall time: 1e+03 µs\n"
     ]
    }
   ],
   "source": [
    "%%time\n",
    "\n",
    "embeddings_data = []\n",
    "\n",
    "with open(filename, 'rb') as file:\n",
    "    embeddings = pickle.load(file)"
   ]
  },
  {
   "cell_type": "code",
   "execution_count": 40,
   "id": "0ab88ea2",
   "metadata": {},
   "outputs": [
    {
     "name": "stdout",
     "output_type": "stream",
     "text": [
      "MOHAN KRISHNAN\n"
     ]
    }
   ],
   "source": [
    "cap = cv2.VideoCapture(0)\n",
    "while True :\n",
    "    ret, frame = cap.read()\n",
    "    #Smaller_frames = cv2.resize(frame, (0,0), None, 0.25, 0.25)\n",
    "\n",
    "    facesInFrame = face_recognition.face_locations(frame)\n",
    "    encodeFacesInFrame = face_recognition.face_encodings(frame, facesInFrame)\n",
    "\n",
    "    for encodeFace, faceloc in zip(encodeFacesInFrame, facesInFrame) :\n",
    "        matches = face_recognition.compare_faces(imgEmbeddings, encodeFace)\n",
    "        facedis = face_recognition.face_distance(imgEmbeddings, encodeFace)\n",
    "        #print(facedis)\n",
    "        matchIndex = np.argmin(facedis)\n",
    "\n",
    "        if matches[matchIndex] :\n",
    "            name = personName[matchIndex].upper()\n",
    "            faceCascade = cv2.CascadeClassifier(cv2.data.haarcascades + 'haarcascade_frontalface_default.xml')\n",
    "            faces = faceCascade.detectMultiScale(frame,1.3,3)\n",
    "            \n",
    "            if len(faces)==1:\n",
    "\n",
    "                for(x,y,w,h) in faces:\n",
    "                    cv2.rectangle(frame, (x,y), (x+w, y+h), (0,255,0),5)\n",
    "                    #cv2.rectangle(frame, (x1, y1), (x2, y2), (0, 255, 0), 3)\n",
    "                    #cv2.rectangle(frame, (x1, y2-25), (x2, y2), (0, 255, 0), cv2.FILLED)\n",
    "                    cv2.putText(frame, name, (x1+6, y2-6), cv2.FONT_HERSHEY_COMPLEX, 1, (255, 255, 255), 2)\n",
    "            \n",
    "      \n",
    "    cv2.imshow('Entry',frame)\n",
    "    \n",
    "    if cv2.waitKey(10) & 0xFF == ord('q'):\n",
    "        break\n",
    "\n",
    "\n",
    "#print(facedis)\n",
    "print(name)\n",
    "\n",
    "\n",
    "cap.release()\n",
    "cv2.destroyAllWindows()"
   ]
  },
  {
   "cell_type": "code",
   "execution_count": 39,
   "id": "f475b452",
   "metadata": {},
   "outputs": [],
   "source": [
    "cap.release()\n",
    "cv2.destroyAllWindows()"
   ]
  },
  {
   "cell_type": "code",
   "execution_count": 26,
   "id": "583cedb9",
   "metadata": {},
   "outputs": [
    {
     "data": {
      "text/plain": [
       "[]"
      ]
     },
     "execution_count": 26,
     "metadata": {},
     "output_type": "execute_result"
    }
   ],
   "source": [
    "personName"
   ]
  },
  {
   "cell_type": "code",
   "execution_count": 42,
   "id": "400a7a29",
   "metadata": {},
   "outputs": [],
   "source": [
    "names = ['Abdul', 'Abiram', 'Abirami', 'Abishek ram', 'Adarsh', 'Akilesh', 'Aravind', 'Arun madhavan', 'Ashvath', 'Ashwin', 'Dhanyaa', 'Dharan raj', 'Dharanish', 'Dharshini', 'Ellakiya', 'Farooq', 'Farzin', 'Gokul', 'Hari prakash', 'Haritha', 'Illamugi', 'Kailas', 'Kalyan', 'Lakshmi Meera mam', 'Logita', 'Madanica', 'Mohan krishnan', 'Mukilan', 'Murali', 'Nandha kumar', 'Nandy', 'Navin', 'Nethra', 'Niranjana', 'Nirmal kumar', 'Nisanth', 'Nithish', 'Nithyashree', 'Oviya', 'Prabakaran', 'Prawin', 'Rakesh', 'Rithivik', 'Rupa', 'Sarvesh', 'Selva kumaran', 'Selva vishnu raj', 'senthi', 'Shankari', 'Sibi', 'Siva chandru', 'Sri hari', 'Sri harshitha', 'Sri Nandha SS', 'Srinithi', 'Sriram', 'Suganya', 'Suriyapriya', 'Swetha Intern', 'Swetha', 'Tharika', 'thoufiq', 'Thrisha vaishnavi', 'Thusar balaji', 'Vaishnavi', 'Vijay', 'Yogeswari']"
   ]
  },
  {
   "cell_type": "code",
   "execution_count": null,
   "id": "6a0e8234",
   "metadata": {},
   "outputs": [],
   "source": [
    "name = 'Mo'"
   ]
  }
 ],
 "metadata": {
  "kernelspec": {
   "display_name": "Python 3 (ipykernel)",
   "language": "python",
   "name": "python3"
  },
  "language_info": {
   "codemirror_mode": {
    "name": "ipython",
    "version": 3
   },
   "file_extension": ".py",
   "mimetype": "text/x-python",
   "name": "python",
   "nbconvert_exporter": "python",
   "pygments_lexer": "ipython3",
   "version": "3.11.5"
  }
 },
 "nbformat": 4,
 "nbformat_minor": 5
}
