{
  "nbformat": 4,
  "nbformat_minor": 0,
  "metadata": {
    "colab": {
      "provenance": []
    },
    "kernelspec": {
      "name": "python3",
      "display_name": "Python 3"
    },
    "language_info": {
      "name": "python"
    }
  },
  "cells": [
    {
      "cell_type": "markdown",
      "source": [
        "# Importing Libraries"
      ],
      "metadata": {
        "id": "JbyFzc4P-vYZ"
      }
    },
    {
      "cell_type": "code",
      "source": [
        "import sqlite3\n",
        "import pandas as pd\n",
        "import os"
      ],
      "metadata": {
        "id": "0BiCjafpAluL"
      },
      "execution_count": 4,
      "outputs": []
    },
    {
      "cell_type": "markdown",
      "source": [
        "# Sqlite DB"
      ],
      "metadata": {
        "id": "48jdRT4bAq_q"
      }
    },
    {
      "cell_type": "code",
      "source": [
        "csv_file_path = '/content/Test.csv'\n",
        "\n",
        "df = pd.read_csv(csv_file_path)\n",
        "\n",
        "conn = sqlite3.connect('your_database.db')\n",
        "\n",
        "df.to_sql('test_data', conn, index=False, if_exists='replace')\n",
        "\n",
        "output = 'Srinithi'\n",
        "\n",
        "query = f\"SELECT * FROM test_data where Name = '{output}'\";\n",
        "result = pd.read_sql_query(query, conn)\n",
        "print(result)\n",
        "\n",
        "\n",
        "#conn.close()\n"
      ],
      "metadata": {
        "id": "YUNpnZOlA7ad",
        "outputId": "a4100a62-fa99-4c3c-c6fd-ac03b1bb4bd3",
        "colab": {
          "base_uri": "https://localhost:8080/"
        }
      },
      "execution_count": 9,
      "outputs": [
        {
          "output_type": "stream",
          "name": "stdout",
          "text": [
            "       Name  A/c Number Pan number  Balance  Debt\n",
            "0  Srinithi   123456789   FMM45522   100000   500\n"
          ]
        }
      ]
    },
    {
      "cell_type": "code",
      "source": [],
      "metadata": {
        "id": "5Hlkp-PfBGny"
      },
      "execution_count": null,
      "outputs": []
    }
  ]
}